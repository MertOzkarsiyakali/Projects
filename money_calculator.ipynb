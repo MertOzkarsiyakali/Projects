asd = float(input("Input the amount of money: "))
bills = [50,20,10,5,1,0.25,0.10,0.01]
total = 0
for bill in bills:
    if bill == 50:
        times_bill = int(asd//bill)
        value_bill = times_bill*50
        total = value_bill
        remain = asd-total
        print(times_bill,"50 dollar bill(s),","Total:",total)
for bill in bills:
    if bill == 20:
        times_bill = int(remain//bill)
        value_bill = times_bill*20
        total += value_bill
        remain1 = asd-total
        print(times_bill,"20 dollar bill(s),","Total:",total)
for bill in bills:
    if bill == 10:
        times_bill = int(remain1//bill)
        value_bill = times_bill*10
        total += value_bill
        remain2 = asd-total
        print(times_bill,"10 dollar bill(s),","Total:",total)
for bill in bills:
    if bill == 5:
        times_bill = int(remain2//bill)
        value_bill = times_bill*5
        total += value_bill
        remain3 = asd-total
        print(times_bill,"5 dollar bill(s),","Total:",total)
for bill in bills:
    if bill == 1:
        times_bill = int(remain3//bill)
        value_bill = times_bill*1
        total += value_bill
        remain4 = asd-total
        print(times_bill,"1 dollar bill(s),","Total:",total)
for bill in bills:
    if bill == 0.25:
        times_bill = int(remain4//bill)
        value_bill = times_bill*0.25
        total += value_bill
        remain5 = asd-total
        print(times_bill,"quarter(s),","Total:",total)
for bill in bills:
    if bill == 0.10:
        times_bill = int(remain5//bill)
        value_bill = times_bill*0.10
        total += value_bill
        remain6 = asd-total
        print(times_bill,"dime(s),","Total:",total)
for bill in bills:
    if bill == 0.01:
        times_bill = int(remain6//bill)
        value_bill = times_bill*0.01
        total += value_bill
        remain4 = asd-total
        print(times_bill,"cent(s),","Total:",total)
    
